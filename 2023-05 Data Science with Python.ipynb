{
 "cells": [
  {
   "cell_type": "markdown",
   "id": "2c1e090d",
   "metadata": {},
   "source": [
    "__Data Science With Python__"
   ]
  },
  {
   "cell_type": "markdown",
   "id": "0ab7fcf3",
   "metadata": {},
   "source": [
    "Python Libraries: <br>\n",
    "- numpy\n",
    "- Pandas\n",
    "- Scipy\n",
    "- matplotlib\n",
    "- Scikit learn"
   ]
  },
  {
   "cell_type": "code",
   "execution_count": 1,
   "id": "2d8fa8d6",
   "metadata": {},
   "outputs": [
    {
     "ename": "SyntaxError",
     "evalue": "invalid syntax (Temp/ipykernel_21268/546852008.py, line 1)",
     "output_type": "error",
     "traceback": [
      "\u001b[1;36m  File \u001b[1;32m\"C:\\Users\\Rishi\\AppData\\Local\\Temp/ipykernel_21268/546852008.py\"\u001b[1;36m, line \u001b[1;32m1\u001b[0m\n\u001b[1;33m    jupyter notebook password\u001b[0m\n\u001b[1;37m            ^\u001b[0m\n\u001b[1;31mSyntaxError\u001b[0m\u001b[1;31m:\u001b[0m invalid syntax\n"
     ]
    }
   ],
   "source": [
    "jupyter notebook password"
   ]
  }
 ],
 "metadata": {
  "kernelspec": {
   "display_name": "Python 3 (ipykernel)",
   "language": "python",
   "name": "python3"
  },
  "language_info": {
   "codemirror_mode": {
    "name": "ipython",
    "version": 3
   },
   "file_extension": ".py",
   "mimetype": "text/x-python",
   "name": "python",
   "nbconvert_exporter": "python",
   "pygments_lexer": "ipython3",
   "version": "3.8.8"
  }
 },
 "nbformat": 4,
 "nbformat_minor": 5
}
