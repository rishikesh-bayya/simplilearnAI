{
 "cells": [
  {
   "cell_type": "markdown",
   "id": "fcdf0677",
   "metadata": {},
   "source": [
    "__Data Science With Python__"
   ]
  },
  {
   "cell_type": "markdown",
   "id": "fa554b9a",
   "metadata": {},
   "source": [
    "<font color = Red>  __New Lesson__ </font> <br>\n",
    "**`Python Libraries: <br>`**\n",
    "- numpy\n",
    "- Pandas\n",
    "- Scipy\n",
    "- matplotlib\n",
    "- Scikit learn"
   ]
  },
  {
   "cell_type": "code",
   "execution_count": 21,
   "id": "00168315",
   "metadata": {},
   "outputs": [],
   "source": [
    "#Shape Manipulation\n",
    "import numpy as np\n",
    "new_cyclist_trials = np.array([[12,12,15,14,17,18],[2,5,8,7,4,1]])"
   ]
  },
  {
   "cell_type": "code",
   "execution_count": 4,
   "id": "13eadeff",
   "metadata": {},
   "outputs": [
    {
     "data": {
      "text/plain": [
       "array([[12, 12, 15, 14, 17, 18],\n",
       "       [ 2,  5,  8,  7,  4,  1]])"
      ]
     },
     "execution_count": 4,
     "metadata": {},
     "output_type": "execute_result"
    }
   ],
   "source": [
    "new_cyclist_trials"
   ]
  },
  {
   "cell_type": "markdown",
   "id": "7449d636",
   "metadata": {},
   "source": [
    "**`ravel()`**: Will faltten the array or data set"
   ]
  },
  {
   "cell_type": "code",
   "execution_count": 5,
   "id": "60287770",
   "metadata": {},
   "outputs": [
    {
     "data": {
      "text/plain": [
       "array([12, 12, 15, 14, 17, 18,  2,  5,  8,  7,  4,  1])"
      ]
     },
     "execution_count": 5,
     "metadata": {},
     "output_type": "execute_result"
    }
   ],
   "source": [
    "new_cyclist_trials.ravel()"
   ]
  },
  {
   "cell_type": "code",
   "execution_count": 14,
   "id": "e011ccf1",
   "metadata": {},
   "outputs": [
    {
     "data": {
      "text/plain": [
       "array([[12, 12],\n",
       "       [15, 14],\n",
       "       [17, 18],\n",
       "       [ 2,  5],\n",
       "       [ 8,  7],\n",
       "       [ 4,  1]])"
      ]
     },
     "execution_count": 14,
     "metadata": {},
     "output_type": "execute_result"
    }
   ],
   "source": [
    "new_cyclist_trials.reshape(6,2)"
   ]
  },
  {
   "cell_type": "code",
   "execution_count": 23,
   "id": "a5d0d815",
   "metadata": {},
   "outputs": [],
   "source": [
    "new_cyclist_trials.resize(4,3)"
   ]
  },
  {
   "cell_type": "code",
   "execution_count": 24,
   "id": "0e211ed9",
   "metadata": {},
   "outputs": [
    {
     "data": {
      "text/plain": [
       "array([[12, 12, 15],\n",
       "       [14, 17, 18],\n",
       "       [ 2,  5,  8],\n",
       "       [ 7,  4,  1]])"
      ]
     },
     "execution_count": 24,
     "metadata": {},
     "output_type": "execute_result"
    }
   ],
   "source": [
    "new_cyclist_trials"
   ]
  },
  {
   "cell_type": "markdown",
   "id": "f1da6449",
   "metadata": {},
   "source": [
    "__Split and Stacking of arrays__"
   ]
  },
  {
   "cell_type": "code",
   "execution_count": 26,
   "id": "3535534a",
   "metadata": {},
   "outputs": [
    {
     "data": {
      "text/plain": [
       "[array([[12],\n",
       "        [14],\n",
       "        [ 2],\n",
       "        [ 7]]),\n",
       " array([[12],\n",
       "        [17],\n",
       "        [ 5],\n",
       "        [ 4]]),\n",
       " array([[15],\n",
       "        [18],\n",
       "        [ 8],\n",
       "        [ 1]])]"
      ]
     },
     "execution_count": 26,
     "metadata": {},
     "output_type": "execute_result"
    }
   ],
   "source": [
    "#this will vertically slice the array int equal parts provided\n",
    "np.hsplit(new_cyclist_trials, 3)"
   ]
  },
  {
   "cell_type": "code",
   "execution_count": 39,
   "id": "94e7a3b4",
   "metadata": {},
   "outputs": [],
   "source": [
    "new_cyclist_1 = np.array([[1, 2] ,[3, 4]])\n",
    "new_cyclist_2 = np.array([[10, 20], [30, 40]])"
   ]
  },
  {
   "cell_type": "code",
   "execution_count": 40,
   "id": "e18d8e88",
   "metadata": {},
   "outputs": [
    {
     "data": {
      "text/plain": [
       "array([[ 1,  2, 10, 20],\n",
       "       [ 3,  4, 30, 40]])"
      ]
     },
     "execution_count": 40,
     "metadata": {},
     "output_type": "execute_result"
    }
   ],
   "source": [
    "np.hstack((new_cyclist_1, new_cyclist_2))"
   ]
  },
  {
   "cell_type": "code",
   "execution_count": 41,
   "id": "bfd095ec",
   "metadata": {},
   "outputs": [
    {
     "data": {
      "text/plain": [
       "array([[1, 2],\n",
       "       [3, 4]])"
      ]
     },
     "execution_count": 41,
     "metadata": {},
     "output_type": "execute_result"
    }
   ],
   "source": [
    "new_cyclist_1"
   ]
  },
  {
   "cell_type": "code",
   "execution_count": 42,
   "id": "5f9efdfe",
   "metadata": {},
   "outputs": [
    {
     "data": {
      "text/plain": [
       "array([[0., 0., 0.],\n",
       "       [0., 0., 0.],\n",
       "       [0., 0., 0.]])"
      ]
     },
     "execution_count": 42,
     "metadata": {},
     "output_type": "execute_result"
    }
   ],
   "source": [
    "array_with_zeros = np.zeros((3,3))\n",
    "array_with_zeros"
   ]
  },
  {
   "cell_type": "code",
   "execution_count": 43,
   "id": "faaeb78b",
   "metadata": {},
   "outputs": [
    {
     "data": {
      "text/plain": [
       "array([[[1., 1.],\n",
       "        [1., 1.]],\n",
       "\n",
       "       [[1., 1.],\n",
       "        [1., 1.]]])"
      ]
     },
     "execution_count": 43,
     "metadata": {},
     "output_type": "execute_result"
    }
   ],
   "source": [
    "array_with_ones = np.ones((2,2,2))\n",
    "array_with_ones"
   ]
  },
  {
   "cell_type": "code",
   "execution_count": 44,
   "id": "6180fc11",
   "metadata": {},
   "outputs": [
    {
     "data": {
      "text/plain": [
       "array([[1., 1.],\n",
       "       [1., 1.],\n",
       "       [1., 1.],\n",
       "       [1., 1.]])"
      ]
     },
     "execution_count": 44,
     "metadata": {},
     "output_type": "execute_result"
    }
   ],
   "source": [
    "#array with random numbers\n",
    "array_with_empty = np.empty((4, 2))\n",
    "array_with_empty"
   ]
  },
  {
   "cell_type": "code",
   "execution_count": 48,
   "id": "2d41627c",
   "metadata": {},
   "outputs": [
    {
     "name": "stdout",
     "output_type": "stream",
     "text": [
      "[ 0  1  2  3  4  5  6  7  8  9 10 11 12 13 14]\n"
     ]
    }
   ],
   "source": [
    "oneD_array = np.arange(15)\n",
    "print(oneD_array)"
   ]
  },
  {
   "cell_type": "code",
   "execution_count": 49,
   "id": "482635ae",
   "metadata": {},
   "outputs": [
    {
     "data": {
      "text/plain": [
       "array([[ 0,  1,  2,  3,  4],\n",
       "       [ 5,  6,  7,  8,  9],\n",
       "       [10, 11, 12, 13, 14]])"
      ]
     },
     "execution_count": 49,
     "metadata": {},
     "output_type": "execute_result"
    }
   ],
   "source": [
    "twoD_array = oneD_array.reshape(3,5)\n",
    "twoD_array"
   ]
  },
  {
   "cell_type": "code",
   "execution_count": 52,
   "id": "5fed91b4",
   "metadata": {},
   "outputs": [
    {
     "data": {
      "text/plain": [
       "array([[[ 0,  1,  2],\n",
       "        [ 3,  4,  5],\n",
       "        [ 6,  7,  8]],\n",
       "\n",
       "       [[ 9, 10, 11],\n",
       "        [12, 13, 14],\n",
       "        [15, 16, 17]],\n",
       "\n",
       "       [[18, 19, 20],\n",
       "        [21, 22, 23],\n",
       "        [24, 25, 26]]])"
      ]
     },
     "execution_count": 52,
     "metadata": {},
     "output_type": "execute_result"
    }
   ],
   "source": [
    "threeD_array = np.arange(27).reshape(3, 3, 3)\n",
    "threeD_array"
   ]
  },
  {
   "cell_type": "code",
   "execution_count": 53,
   "id": "41da30dd",
   "metadata": {},
   "outputs": [
    {
     "data": {
      "text/plain": [
       "array([ 1., 10.])"
      ]
     },
     "execution_count": 53,
     "metadata": {},
     "output_type": "execute_result"
    }
   ],
   "source": [
    "np_linspce = np.linspace(1, 10, 2)\n",
    "np_linspce"
   ]
  },
  {
   "cell_type": "markdown",
   "id": "27803648",
   "metadata": {},
   "source": [
    "<font color = Red>  __New Lesson__ </font> <br>"
   ]
  },
  {
   "cell_type": "code",
   "execution_count": null,
   "id": "a39d2ba2",
   "metadata": {},
   "outputs": [],
   "source": []
  }
 ],
 "metadata": {
  "kernelspec": {
   "display_name": "Python 3 (ipykernel)",
   "language": "python",
   "name": "python3"
  },
  "language_info": {
   "codemirror_mode": {
    "name": "ipython",
    "version": 3
   },
   "file_extension": ".py",
   "mimetype": "text/x-python",
   "name": "python",
   "nbconvert_exporter": "python",
   "pygments_lexer": "ipython3",
   "version": "3.8.8"
  }
 },
 "nbformat": 4,
 "nbformat_minor": 5
}
